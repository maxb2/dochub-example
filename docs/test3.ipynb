version https://git-lfs.github.com/spec/v1
oid sha256:6e29aac02b7cd40b66d114dc37a6b021f69dba4ed92d8e0e40574647d2e625b4
size 1592
